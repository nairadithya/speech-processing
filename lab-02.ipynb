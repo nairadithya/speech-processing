{
 "cells": [
  {
   "cell_type": "code",
   "execution_count": 7,
   "metadata": {
    "colab": {
     "base_uri": "https://localhost:8080/"
    },
    "id": "E8u1B7XCzHY-",
    "outputId": "067c1f4f-a7d2-4d54-abaa-8c6581dcfb76",
    "scrolled": true
   },
   "outputs": [
    {
     "name": "stdout",
     "output_type": "stream",
     "text": [
      "Defaulting to user installation because normal site-packages is not writeable\n",
      "Requirement already satisfied: transformers in /home/adithya/.local/lib/python3.13/site-packages (4.49.0)\n",
      "Requirement already satisfied: filelock in /home/adithya/.local/lib/python3.13/site-packages (from transformers) (3.17.0)\n",
      "Requirement already satisfied: huggingface-hub<1.0,>=0.26.0 in /home/adithya/.local/lib/python3.13/site-packages (from transformers) (0.29.3)\n",
      "Requirement already satisfied: numpy>=1.17 in /usr/lib64/python3.13/site-packages (from transformers) (1.26.4)\n",
      "Requirement already satisfied: packaging>=20.0 in /usr/lib/python3.13/site-packages (from transformers) (24.2)\n",
      "Requirement already satisfied: pyyaml>=5.1 in /usr/lib64/python3.13/site-packages (from transformers) (6.0.1)\n",
      "Requirement already satisfied: regex!=2019.12.17 in /usr/lib64/python3.13/site-packages (from transformers) (2024.11.6)\n",
      "Requirement already satisfied: requests in /usr/lib/python3.13/site-packages (from transformers) (2.32.3)\n",
      "Requirement already satisfied: tokenizers<0.22,>=0.21 in /home/adithya/.local/lib/python3.13/site-packages (from transformers) (0.21.1)\n",
      "Requirement already satisfied: safetensors>=0.4.1 in /home/adithya/.local/lib/python3.13/site-packages (from transformers) (0.5.3)\n",
      "Requirement already satisfied: tqdm>=4.27 in /home/adithya/.local/lib/python3.13/site-packages (from transformers) (4.67.1)\n",
      "Requirement already satisfied: fsspec>=2023.5.0 in /usr/lib/python3.13/site-packages (from huggingface-hub<1.0,>=0.26.0->transformers) (2024.12.0)\n",
      "Requirement already satisfied: typing-extensions>=3.7.4.3 in /usr/lib/python3.13/site-packages (from huggingface-hub<1.0,>=0.26.0->transformers) (4.12.2)\n",
      "Requirement already satisfied: charset-normalizer<4,>=2 in /usr/lib/python3.13/site-packages (from requests->transformers) (3.3.2)\n",
      "Requirement already satisfied: idna<4,>=2.5 in /usr/lib/python3.13/site-packages (from requests->transformers) (3.7)\n",
      "Requirement already satisfied: urllib3<3,>=1.21.1 in /usr/lib/python3.13/site-packages (from requests->transformers) (1.26.20)\n",
      "Defaulting to user installation because normal site-packages is not writeable\n",
      "Requirement already satisfied: nltk in /home/adithya/.local/lib/python3.13/site-packages (3.9.1)\n",
      "Requirement already satisfied: click in /usr/lib/python3.13/site-packages (from nltk) (8.1.7)\n",
      "Requirement already satisfied: joblib in /home/adithya/.local/lib/python3.13/site-packages (from nltk) (1.4.2)\n",
      "Requirement already satisfied: regex>=2021.8.3 in /usr/lib64/python3.13/site-packages (from nltk) (2024.11.6)\n",
      "Requirement already satisfied: tqdm in /home/adithya/.local/lib/python3.13/site-packages (from nltk) (4.67.1)\n"
     ]
    },
    {
     "name": "stderr",
     "output_type": "stream",
     "text": [
      "[nltk_data] Downloading package cmudict to /home/adithya/nltk_data...\n",
      "[nltk_data]   Package cmudict is already up-to-date!\n"
     ]
    }
   ],
   "source": [
    "!pip install transformers\n",
    "!pip install nltk\n",
    "import torch\n",
    "import torchaudio\n",
    "import librosa\n",
    "import matplotlib.pyplot as plt\n",
    "from transformers import Wav2Vec2ForCTC, Wav2Vec2Processor\n",
    "import nltk\n",
    "nltk.download('cmudict')\n",
    "from nltk.corpus import cmudict"
   ]
  },
  {
   "cell_type": "markdown",
   "metadata": {
    "id": "PydlvSYezSLq"
   },
   "source": [
    "**Loading Speech signal**"
   ]
  },
  {
   "cell_type": "code",
   "execution_count": 9,
   "metadata": {
    "id": "m6StqSS9znO2"
   },
   "outputs": [],
   "source": [
    "file_path=\"dataset/LJSpeech-1.1/wavs/LJ001-0001.wav\"\n",
    "waveform,sample_rate=torchaudio.load(file_path)"
   ]
  },
  {
   "cell_type": "markdown",
   "metadata": {
    "id": "f63eBK3VzwGX"
   },
   "source": [
    "**Loading the pretrained model and processor**"
   ]
  },
  {
   "cell_type": "code",
   "execution_count": 10,
   "metadata": {
    "colab": {
     "base_uri": "https://localhost:8080/"
    },
    "id": "LcedOVWJz0W1",
    "outputId": "f4925db2-7d4c-4fc5-e3a8-a5f2c5e9bcfb"
   },
   "outputs": [
    {
     "data": {
      "application/vnd.jupyter.widget-view+json": {
       "model_id": "50758450a9164bba9580e283ef8e825b",
       "version_major": 2,
       "version_minor": 0
      },
      "text/plain": [
       "preprocessor_config.json:   0%|          | 0.00/159 [00:00<?, ?B/s]"
      ]
     },
     "metadata": {},
     "output_type": "display_data"
    },
    {
     "data": {
      "application/vnd.jupyter.widget-view+json": {
       "model_id": "9ca7bd05db16476d9e2caeeec82177e3",
       "version_major": 2,
       "version_minor": 0
      },
      "text/plain": [
       "tokenizer_config.json:   0%|          | 0.00/163 [00:00<?, ?B/s]"
      ]
     },
     "metadata": {},
     "output_type": "display_data"
    },
    {
     "data": {
      "application/vnd.jupyter.widget-view+json": {
       "model_id": "fed9e7a95a9c4ac0a3943482cba0cc4a",
       "version_major": 2,
       "version_minor": 0
      },
      "text/plain": [
       "config.json:   0%|          | 0.00/843 [00:00<?, ?B/s]"
      ]
     },
     "metadata": {},
     "output_type": "display_data"
    },
    {
     "data": {
      "application/vnd.jupyter.widget-view+json": {
       "model_id": "c0ce317394ef4113b647576df952d687",
       "version_major": 2,
       "version_minor": 0
      },
      "text/plain": [
       "vocab.json:   0%|          | 0.00/291 [00:00<?, ?B/s]"
      ]
     },
     "metadata": {},
     "output_type": "display_data"
    },
    {
     "data": {
      "application/vnd.jupyter.widget-view+json": {
       "model_id": "2d9e9d871f1c4ad28c81425ac9c89059",
       "version_major": 2,
       "version_minor": 0
      },
      "text/plain": [
       "special_tokens_map.json:   0%|          | 0.00/85.0 [00:00<?, ?B/s]"
      ]
     },
     "metadata": {},
     "output_type": "display_data"
    },
    {
     "data": {
      "application/vnd.jupyter.widget-view+json": {
       "model_id": "f399efdfc68a440188e0447ba97fffc7",
       "version_major": 2,
       "version_minor": 0
      },
      "text/plain": [
       "pytorch_model.bin:   0%|          | 0.00/1.26G [00:00<?, ?B/s]"
      ]
     },
     "metadata": {},
     "output_type": "display_data"
    },
    {
     "name": "stderr",
     "output_type": "stream",
     "text": [
      "Some weights of Wav2Vec2ForCTC were not initialized from the model checkpoint at facebook/wav2vec2-large-960h and are newly initialized: ['wav2vec2.masked_spec_embed']\n",
      "You should probably TRAIN this model on a down-stream task to be able to use it for predictions and inference.\n"
     ]
    }
   ],
   "source": [
    "processor = Wav2Vec2Processor.from_pretrained(\"facebook/wav2vec2-large-960h\")\n",
    "model = Wav2Vec2ForCTC.from_pretrained(\"facebook/wav2vec2-large-960h\")\n",
    "phoneme_dict = cmudict.dict()\n",
    "def get_phonemes(word):\n",
    "    word = word.lower()\n",
    "    return phoneme_dict.get(word, [\"UNKNOWN\"])"
   ]
  },
  {
   "cell_type": "markdown",
   "metadata": {
    "id": "B_Szd4WGz4_6"
   },
   "source": [
    "**Audio preprocessing (Conversion to mono and Resampling to 16kHz)**"
   ]
  },
  {
   "cell_type": "code",
   "execution_count": 11,
   "metadata": {
    "id": "qCnway6mz9md"
   },
   "outputs": [
    {
     "data": {
      "application/vnd.jupyter.widget-view+json": {
       "model_id": "bd6bba4c30bd40298446df3dbec12f06",
       "version_major": 2,
       "version_minor": 0
      },
      "text/plain": [
       "model.safetensors:   0%|          | 0.00/1.26G [00:00<?, ?B/s]"
      ]
     },
     "metadata": {},
     "output_type": "display_data"
    }
   ],
   "source": [
    "waveform = torch.mean(waveform,dim=0,keepdim=True)\n",
    "waveform = torchaudio.transforms.Resample(orig_freq=sample_rate, new_freq=16000)(waveform)"
   ]
  },
  {
   "cell_type": "markdown",
   "metadata": {
    "id": "d5RFes1-0B8j"
   },
   "source": [
    "**Converting the waveform into model input format and obtaining model predictions**"
   ]
  },
  {
   "cell_type": "code",
   "execution_count": 14,
   "metadata": {
    "id": "jCO6RTlQ0GDQ"
   },
   "outputs": [],
   "source": [
    "waveform_np = waveform.squeeze().numpy()\n",
    "processed_audio = processor(waveform_np, return_tensors=\"pt\", sampling_rate=16000)\n",
    "input_values = processed_audio.input_values\n",
    "with torch.no_grad():\n",
    "    predictions = model(input_values)"
   ]
  },
  {
   "cell_type": "markdown",
   "metadata": {
    "id": "W0evm2Vo0NTa"
   },
   "source": [
    "**Converting predictions into phonemes and printing the recognised phonemes**"
   ]
  },
  {
   "cell_type": "code",
   "execution_count": 15,
   "metadata": {
    "colab": {
     "base_uri": "https://localhost:8080/"
    },
    "id": "YJq0zpjf0RmQ",
    "outputId": "49b3c12b-8071-4a02-bb44-38e9cff2212a"
   },
   "outputs": [
    {
     "name": "stdout",
     "output_type": "stream",
     "text": [
      "Recognized Text: PRINTING IN THE ONLY SENSE WITH WHICH WE ARE AT PRESENT CONCERNED DIFFERS FROM MOST IF NOT FROM ALL THE ARTS AND CRAFTS REPRESENTED IN THE EXHIBITION\n",
      "Phonemes: [[['P', 'R', 'IH1', 'N', 'T', 'IH0', 'NG'], ['P', 'R', 'IH1', 'N', 'IH0', 'NG']], [['IH0', 'N'], ['IH1', 'N']], [['DH', 'AH0'], ['DH', 'AH1'], ['DH', 'IY0']], [['OW1', 'N', 'L', 'IY0']], [['S', 'EH1', 'N', 'S']], [['W', 'IH1', 'DH'], ['W', 'IH1', 'TH'], ['W', 'IH0', 'TH'], ['W', 'IH0', 'DH']], [['W', 'IH1', 'CH'], ['HH', 'W', 'IH1', 'CH']], [['W', 'IY1']], [['AA1', 'R'], ['ER0']], [['AE1', 'T']], [['P', 'R', 'EH1', 'Z', 'AH0', 'N', 'T'], ['P', 'R', 'IY0', 'Z', 'EH1', 'N', 'T'], ['P', 'ER0', 'Z', 'EH1', 'N', 'T']], [['K', 'AH0', 'N', 'S', 'ER1', 'N', 'D']], [['D', 'IH1', 'F', 'ER0', 'Z']], [['F', 'R', 'AH1', 'M'], ['F', 'ER0', 'M']], [['M', 'OW1', 'S', 'T'], ['M', 'OW1', 'S']], [['IH1', 'F'], ['IH0', 'F']], [['N', 'AA1', 'T']], [['F', 'R', 'AH1', 'M'], ['F', 'ER0', 'M']], [['AO1', 'L']], [['DH', 'AH0'], ['DH', 'AH1'], ['DH', 'IY0']], [['AA1', 'R', 'T', 'S']], [['AH0', 'N', 'D'], ['AE1', 'N', 'D']], [['K', 'R', 'AE1', 'F', 'T', 'S'], ['K', 'R', 'AE1', 'F', 'S']], [['R', 'EH2', 'P', 'R', 'AH0', 'Z', 'EH1', 'N', 'T', 'AH0', 'D'], ['R', 'EH2', 'P', 'R', 'IH0', 'Z', 'EH1', 'N', 'T', 'IH0', 'D'], ['R', 'EH2', 'P', 'R', 'AH0', 'Z', 'EH1', 'N', 'AH0', 'D'], ['R', 'EH2', 'P', 'R', 'IH0', 'Z', 'EH1', 'N', 'IH0', 'D']], [['IH0', 'N'], ['IH1', 'N']], [['DH', 'AH0'], ['DH', 'AH1'], ['DH', 'IY0']], [['EH2', 'K', 'S', 'AH0', 'B', 'IH1', 'SH', 'AH0', 'N']]]\n"
     ]
    }
   ],
   "source": [
    "predicted_ids = torch.argmax(predictions.logits, dim=-1)\n",
    "phoneme_list = processor.batch_decode(predicted_ids)\n",
    "transcription = phoneme_list[0]\n",
    "phoneme_output = [get_phonemes(word) for word in transcription.split()]\n",
    "print(\"Recognized Text:\", transcription)\n",
    "print(\"Phonemes:\", phoneme_output)"
   ]
  },
  {
   "cell_type": "markdown",
   "metadata": {
    "id": "mcbIuIiH0dWQ"
   },
   "source": [
    "**Extracting a phoneme segment based on time**"
   ]
  },
  {
   "cell_type": "code",
   "execution_count": 16,
   "metadata": {
    "id": "gBCC5APF0mnn"
   },
   "outputs": [],
   "source": [
    "start_time = 1.0\n",
    "end_time = 1.5\n",
    "start_sample = int(start_time * 16000)\n",
    "end_sample = int(end_time * 16000)\n",
    "phoneme_segment = waveform[:, start_sample:end_sample]"
   ]
  },
  {
   "cell_type": "markdown",
   "metadata": {
    "id": "wnZ3Blp_0q_J"
   },
   "source": [
    "**Alignment with recognised phoneme**"
   ]
  },
  {
   "cell_type": "code",
   "execution_count": 17,
   "metadata": {
    "id": "eKGgv1DY0z26"
   },
   "outputs": [],
   "source": [
    "total_samples = waveform.size(1)\n",
    "segment_duration = end_sample - start_sample\n",
    "segment_ratio = start_sample / total_samples\n",
    "num_words = len(transcription.split())\n",
    "word_index = int(segment_ratio * num_words)\n",
    "aligned_word = transcription.split()[word_index] if num_words > 0 else ''\n",
    "aligned_phoneme = get_phonemes(aligned_word)"
   ]
  },
  {
   "cell_type": "markdown",
   "metadata": {
    "id": "4-eC6D6-01n6"
   },
   "source": [
    "**Visualisation of waveform of extracted phoneme**"
   ]
  },
  {
   "cell_type": "code",
   "execution_count": 18,
   "metadata": {
    "colab": {
     "base_uri": "https://localhost:8080/",
     "height": 507
    },
    "id": "hZi3Mqea09c1",
    "outputId": "f709946e-37a7-4d07-a735-a76ecb918bdd"
   },
   "outputs": [
    {
     "data": {
      "image/png": "[encoded data removed]",
      "text/plain": [
       "<Figure size 640x480 with 1 Axes>"
      ]
     },
     "metadata": {},
     "output_type": "display_data"
    },
    {
     "name": "stdout",
     "output_type": "stream",
     "text": [
      "Aligned Word: THE\n",
      "Phonemes for 'THE': [['DH', 'AH0'], ['DH', 'AH1'], ['DH', 'IY0']]\n"
     ]
    }
   ],
   "source": [
    "phoneme_array=phoneme_segment.numpy()\n",
    "samples=phoneme_array.flatten()\n",
    "librosa.display.waveshow(samples, sr=16000)\n",
    "plt.title(f\"Waveform of Extracted Phoneme ({aligned_word})\")\n",
    "plt.xlabel(\"Time (s)\")\n",
    "plt.ylabel(\"Amplitude\")\n",
    "plt.show()\n",
    "print(f\"Aligned Word: {aligned_word}\")\n",
    "print(f\"Phonemes for '{aligned_word}': {aligned_phoneme}\")"
   ]
  }
 ],
 "metadata": {
  "colab": {
   "provenance": []
  },
  "kernelspec": {
   "display_name": "Python 3 (ipykernel)",
   "language": "python",
   "name": "python3"
  },
  "language_info": {
   "codemirror_mode": {
    "name": "ipython",
    "version": 3
   },
   "file_extension": ".py",
   "mimetype": "text/x-python",
   "name": "python",
   "nbconvert_exporter": "python",
   "pygments_lexer": "ipython3",
   "version": "3.13.2"
  }
 },
 "nbformat": 4,
 "nbformat_minor": 4
}
